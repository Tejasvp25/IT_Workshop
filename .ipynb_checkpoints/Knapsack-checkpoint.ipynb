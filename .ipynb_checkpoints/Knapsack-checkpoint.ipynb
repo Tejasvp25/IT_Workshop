{
 "cells": [
  {
   "cell_type": "code",
   "execution_count": 6,
   "id": "crude-angle",
   "metadata": {},
   "outputs": [
    {
     "name": "stdout",
     "output_type": "stream",
     "text": [
      "Enter Number of Objects : 5\n",
      "Enter Object Weight Seperated by Single Blank Space: 20 30 15 6 9\n",
      "Enter Object Profit Seperated by Single Blank Space: 5 8 3 2 1\n",
      "Enter Maximum Weight : 20\n",
      "Maximum Profit is 5.733333333333333\n"
     ]
    }
   ],
   "source": [
    "\"\"\"\n",
    "    GR No. = xxxxxxxx\n",
    "    Roll No = xxxxxx\n",
    "    Div = SY-C\n",
    "    \n",
    "    \n",
    "\"\"\"\n",
    "\n",
    "class SackItem:\n",
    "    def __init__(self):\n",
    "        self.weight = 0\n",
    "        self.profit = 0\n",
    "        self.ratio = 0\n",
    "\n",
    "    def calculateRatio(self):\n",
    "        self.ratio = self.profit / self.weight\n",
    "\n",
    "\n",
    "no_of_objects = int(input(\"Enter Number of Objects : \"))\n",
    "SackItemList = []\n",
    "temp_input = input(\"Enter Object Weight Seperated by Single Blank Space: \").split(' ')\n",
    "for i in range(no_of_objects):\n",
    "    temp = SackItem()\n",
    "    temp.weight = int(temp_input[i])\n",
    "    SackItemList.append(temp)\n",
    "\n",
    "temp_input = input(\"Enter Object Profit Seperated by Single Blank Space: \").split(' ')\n",
    "for i in range(no_of_objects):\n",
    "    SackItemList[i].profit = int(temp_input[i])\n",
    "    SackItemList[i].calculateRatio()\n",
    "    \n",
    "maximum_sack_weight = int(input(\"Enter Maximum Weight : \"))\n",
    "\n",
    "SackItemList = sorted(\n",
    "    SackItemList, key=lambda mSackItem: mSackItem.ratio)[::-1]\n",
    "\n",
    "max_profit = 0\n",
    "\n",
    "for i in SackItemList:\n",
    "    if maximum_sack_weight == 0:\n",
    "        break\n",
    "\n",
    "    if(maximum_sack_weight > i.weight):\n",
    "        maximum_sack_weight -= i.weight\n",
    "        max_profit += i.profit\n",
    "    else:\n",
    "        max_profit += i.profit*(maximum_sack_weight / i.weight)\n",
    "        maximum_sack_weight = 0\n",
    "\n",
    "print(f\"Maximum Profit is {max_profit}\")\n"
   ]
  },
  {
   "cell_type": "code",
   "execution_count": null,
   "id": "living-essex",
   "metadata": {},
   "outputs": [],
   "source": []
  }
 ],
 "metadata": {
  "kernelspec": {
   "display_name": "Python 3",
   "language": "python",
   "name": "python3"
  },
  "language_info": {
   "codemirror_mode": {
    "name": "ipython",
    "version": 3
   },
   "file_extension": ".py",
   "mimetype": "text/x-python",
   "name": "python",
   "nbconvert_exporter": "python",
   "pygments_lexer": "ipython3",
   "version": "3.8.5"
  }
 },
 "nbformat": 4,
 "nbformat_minor": 5
}
