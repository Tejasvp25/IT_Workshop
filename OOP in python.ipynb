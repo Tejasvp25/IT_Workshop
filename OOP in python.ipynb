{
 "cells": [
  {
   "cell_type": "code",
   "execution_count": 20,
   "metadata": {},
   "outputs": [
    {
     "name": "stdout",
     "output_type": "stream",
     "text": [
      "Name :  PQR , Salary:  2000\n",
      "Name :  ABC , Salary:  4000\n",
      "Name :  XYZ , Salary:  200\n",
      "Total Employee 3\n",
      "Total Employee 3\n"
     ]
    }
   ],
   "source": [
    "class Employee:  # class definition\n",
    "   'Common base class for all employees'\n",
    "   empCount = 0    # class attribute will be common to all objects\n",
    "\n",
    "   def __init__(self, name, salary):  # constructor\n",
    "      self.name = name       # name and salary are object attributes\n",
    "      self.salary = salary\n",
    "      Employee.empCount += 1\n",
    "   \n",
    "   def displayCount():\n",
    "     print (\"Total Employee %d\" % Employee.empCount)\n",
    "    \n",
    "   displayCount = staticmethod(displayCount)\n",
    "\n",
    "   def displayEmployee(self):\n",
    "      print( \"Name : \", self.name,  \", Salary: \", self.salary)\n",
    "\n",
    "emp1 = Employee(\"PQR\", 2000)\n",
    "emp2 = Employee(\"ABC\", 4000)\n",
    "emp3 = Employee(\"XYZ\", 200)\n",
    "emp1.displayEmployee()\n",
    "emp2.displayEmployee()\n",
    "emp3.displayEmployee()\n",
    "Employee.displayCount()\n",
    "print (\"Total Employee %d\" % Employee.empCount)"
   ]
  },
  {
   "cell_type": "code",
   "execution_count": 22,
   "metadata": {},
   "outputs": [
    {
     "name": "stdout",
     "output_type": "stream",
     "text": [
      "PQR False\n",
      "XYZ True\n"
     ]
    }
   ],
   "source": [
    "#Single inheritance\n",
    "class Person: \n",
    "       \n",
    "    # Constructor \n",
    "    def __init__(self, name): \n",
    "        self.name = name \n",
    "   \n",
    "    # To get name \n",
    "    def getName(self): \n",
    "        return self.name \n",
    "   \n",
    "    # To check if this person is an employee \n",
    "    def isEmployee(self): \n",
    "        return False\n",
    "   \n",
    "   \n",
    "# Inherited or Subclass (Note Person in bracket) \n",
    "class Employee(Person): \n",
    "   \n",
    "    # Here we return true \n",
    "    def isEmployee(self): \n",
    "        return True\n",
    "   \n",
    "# Driver code \n",
    "emp = Person(\"PQR\")  # An Object of Person \n",
    "print(emp.getName(), emp.isEmployee()) \n",
    "   \n",
    "emp = Employee(\"XYZ\") # An Object of Employee \n",
    "print(emp.getName(), emp.isEmployee()) "
   ]
  },
  {
   "cell_type": "code",
   "execution_count": 24,
   "metadata": {},
   "outputs": [
    {
     "name": "stdout",
     "output_type": "stream",
     "text": [
      "Naren\n",
      "22222\n"
     ]
    }
   ],
   "source": [
    "# Python code to demonstrate how parent constructors \n",
    "# are called. \n",
    "\n",
    "# parent class \n",
    "class Person:\t \n",
    "\n",
    "\t\t# __init__ is known as the constructor\t\t \n",
    "\t\tdef __init__(self, name, idnumber): \n",
    "\t\t\t\tself.name = name \n",
    "\t\t\t\tself.idnumber = idnumber \n",
    "\t\tdef display(self): \n",
    "\t\t\t\tprint(self.name) \n",
    "\t\t\t\tprint(self.idnumber) \n",
    "\n",
    "# child class \n",
    "class Employee( Person ):\t\t \n",
    "\t\tdef __init__(self, name, idnumber, salary, post): \n",
    "\t\t\t\tself.salary = salary \n",
    "\t\t\t\tself.post = post \n",
    "\n",
    "\t\t\t\t# invoking the __init__ of the parent class \n",
    "\t\t\t\tPerson.__init__(self, name, idnumber) \n",
    "\n",
    "\t\t\t\t\n",
    "# creation of an object variable or an instance \n",
    "a = Employee('Naren', 22222, 200000, \"Programmer\")\t \n",
    "\n",
    "# calling a function of the class Person using its instance \n",
    "a.display() \n"
   ]
  },
  {
   "cell_type": "code",
   "execution_count": 5,
   "metadata": {},
   "outputs": [
    {
     "ename": "AttributeError",
     "evalue": "'B' object has no attribute 'name'",
     "output_type": "error",
     "traceback": [
      "\u001b[0;31m---------------------------------------------------------------------------\u001b[0m",
      "\u001b[0;31mAttributeError\u001b[0m                            Traceback (most recent call last)",
      "\u001b[0;32m<ipython-input-5-c6cecf912d8f>\u001b[0m in \u001b[0;36m<module>\u001b[0;34m\u001b[0m\n\u001b[1;32m     10\u001b[0m \u001b[0;34m\u001b[0m\u001b[0m\n\u001b[1;32m     11\u001b[0m \u001b[0mobject\u001b[0m \u001b[0;34m=\u001b[0m \u001b[0mB\u001b[0m\u001b[0;34m(\u001b[0m\u001b[0;36m23\u001b[0m\u001b[0;34m)\u001b[0m\u001b[0;34m\u001b[0m\u001b[0;34m\u001b[0m\u001b[0m\n\u001b[0;32m---> 12\u001b[0;31m \u001b[0mprint\u001b[0m \u001b[0;34m(\u001b[0m\u001b[0mobject\u001b[0m\u001b[0;34m.\u001b[0m\u001b[0mname\u001b[0m\u001b[0;34m)\u001b[0m\u001b[0;34m\u001b[0m\u001b[0;34m\u001b[0m\u001b[0m\n\u001b[0m",
      "\u001b[0;31mAttributeError\u001b[0m: 'B' object has no attribute 'name'"
     ]
    }
   ],
   "source": [
    "\n",
    "# Python program to demonstrate error if we \n",
    "# forget to invoke __init__() of the parent. \n",
    "  \n",
    "class A: \n",
    "      def __init__(self, n = 'Rahul'): \n",
    "              self.name = n \n",
    "class B(A): \n",
    "      def __init__(self, roll): \n",
    "              self.roll = roll \n",
    "  \n",
    "object = B(23) \n",
    "print (object.name) \n"
   ]
  },
  {
   "cell_type": "code",
   "execution_count": 15,
   "metadata": {},
   "outputs": [
    {
     "name": "stdout",
     "output_type": "stream",
     "text": [
      "Base1\n",
      "Base2h\n",
      "Hello from Derived\n",
      "Hello From Base1 Hello from Base2\n"
     ]
    }
   ],
   "source": [
    "# Python example to show the working of multiple \n",
    "# inheritance \n",
    "class Base1: \n",
    "    def __init__(self): \n",
    "        self.str1 = \"Hello From Base1\"\n",
    "        print(\"Base1\") \n",
    "\n",
    "class Base2: \n",
    "    def __init__(self): \n",
    "        self.str2 = \"Hello from Base2\"\t\n",
    "        print(\"Base2h\") \n",
    "\n",
    "class Derived(Base1, Base2): \n",
    "    def __init__(self): \n",
    "# Calling constructors of Base1 \n",
    "# and Base2 classes \n",
    "        Base1.__init__(self) \n",
    "        Base2.__init__(self) \n",
    "        print(\"Hello from Derived\") \n",
    "        \n",
    "    def printStrs(self): \n",
    "        print(self.str1, self.str2) \n",
    "\n",
    "ob = Derived() \n",
    "ob.printStrs() "
   ]
  },
  {
   "cell_type": "code",
   "execution_count": 18,
   "metadata": {},
   "outputs": [
    {
     "name": "stdout",
     "output_type": "stream",
     "text": [
      "ABC 23 Noida\n"
     ]
    }
   ],
   "source": [
    "# A Python program to demonstrate inheritance \n",
    "\n",
    "# Base or Super class. Note object in bracket. \n",
    "# (Generally, object is made ancestor of all classes) \n",
    "# In Python 3.x \"class Person\" is \n",
    "# equivalent to \"class Person(object)\" \n",
    "class Base: \n",
    "\t\n",
    "\t# Constructor \n",
    "\tdef __init__(self, name): \n",
    "\t\tself.name = name \n",
    "\n",
    "\t# To get name \n",
    "\tdef getName(self): \n",
    "\t\treturn self.name \n",
    "\n",
    "\n",
    "# Inherited or Sub class (Note Person in bracket) \n",
    "class Child(Base): \n",
    "\t\n",
    "\t# Constructor \n",
    "\tdef __init__(self, name, age): \n",
    "\t\tBase.__init__(self, name) \n",
    "\t\tself.age = age \n",
    "\n",
    "\t# To get name \n",
    "\tdef getAge(self): \n",
    "\t\treturn self.age \n",
    "\n",
    "# Inherited or Sub class (Note Person in bracket) \n",
    "class GrandChild(Child): \n",
    "\t\n",
    "\t# Constructor \n",
    "\tdef __init__(self, name, age, address): \n",
    "\t\tChild.__init__(self, name, age) \n",
    "\t\tself.address = address \n",
    "\n",
    "\t# To get address \n",
    "\tdef getAddress(self): \n",
    "\t\treturn self.address\t\t \n",
    "\n",
    "# Driver code \n",
    "g = GrandChild(\"ABC\", 23, \"Noida\") \n",
    "print(g.getName(), g.getAge(), g.getAddress()) \n"
   ]
  },
  {
   "cell_type": "code",
   "execution_count": 3,
   "metadata": {},
   "outputs": [
    {
     "name": "stdout",
     "output_type": "stream",
     "text": [
      "Welcome to  Stark Industries\n",
      "Here  Steve  is working on  Mark 4\n",
      "The salary of  Steve  is  9999999\n"
     ]
    }
   ],
   "source": [
    "# define parent class Company\n",
    "class Company:\n",
    "    # constructor\n",
    "    def __init__(self, name, proj):\n",
    "        self.name = name      # name(name of company) is public\n",
    "        self._proj = proj     # proj(current project) is protected\n",
    "    \n",
    "    # public function to show the details\n",
    "    def show(self):\n",
    "        print(\"The code of the company is = \",self.ccode)\n",
    "\n",
    "# define child class Emp\n",
    "class Emp(Company):\n",
    "    # constructor\n",
    "    def __init__(self, eName, sal, cName, proj):\n",
    "        # calling parent class constructor\n",
    "        Company.__init__(self, cName, proj)\n",
    "        self.name = eName   # public member variable\n",
    "        self.__sal = sal    # private member variable\n",
    "    \n",
    "    # public function to show salary details\n",
    "    def show_sal(self):\n",
    "        print(\"The salary of \",self.name,\" is \",self.__sal,)\n",
    "\n",
    "# creating instance of Company class\n",
    "c = Company(\"Stark Industries\", \"Mark 4\")\n",
    "# creating instance of Employee class\n",
    "e = Emp(\"Steve\", 9999999, c.name, c._proj)\n",
    "\n",
    "print(\"Welcome to \", c.name)\n",
    "print(\"Here \", e.name,\" is working on \",e._proj)\n",
    "#print(\"Salary:\", e.__sal)\n",
    "\n",
    "# only the instance itself can change the __sal variable\n",
    "# and to show the value we have created a public function show_sal()\n",
    "e.show_sal()"
   ]
  },
  {
   "cell_type": "code",
   "execution_count": 5,
   "metadata": {},
   "outputs": [
    {
     "name": "stdout",
     "output_type": "stream",
     "text": [
      "The enrichment from AnotherSubclass\n"
     ]
    }
   ],
   "source": [
    "from abc import ABC, abstractmethod\n",
    " \n",
    "class AbstractClassExample(ABC):\n",
    "    \n",
    "    \n",
    "    def do_something(self):\n",
    "        pass\n",
    "       \n",
    "        \n",
    "class AnotherSubclass(AbstractClassExample):\n",
    "\n",
    "    def do_something(self):\n",
    "        super().do_something()\n",
    "        print(\"The enrichment from AnotherSubclass\")\n",
    "        \n",
    "x = AnotherSubclass()\n",
    "x.do_something()\n",
    "    "
   ]
  },
  {
   "cell_type": "code",
   "execution_count": null,
   "metadata": {},
   "outputs": [],
   "source": [
    "#API"
   ]
  }
 ],
 "metadata": {
  "kernelspec": {
   "display_name": "Python 3",
   "language": "python",
   "name": "python3"
  },
  "language_info": {
   "codemirror_mode": {
    "name": "ipython",
    "version": 3
   },
   "file_extension": ".py",
   "mimetype": "text/x-python",
   "name": "python",
   "nbconvert_exporter": "python",
   "pygments_lexer": "ipython3",
   "version": "3.7.9"
  }
 },
 "nbformat": 4,
 "nbformat_minor": 4
}
