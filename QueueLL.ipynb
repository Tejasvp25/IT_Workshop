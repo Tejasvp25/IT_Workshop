{
 "cells": [
  {
   "cell_type": "code",
   "execution_count": 1,
   "metadata": {},
   "outputs": [
    {
     "name": "stdout",
     "output_type": "stream",
     "text": [
      "Queue Front 40\n",
      "Queue Rear 50\n"
     ]
    }
   ],
   "source": [
    "# Python3 program to demonstrate linked list based implementation of queue \n",
    "  \n",
    "# A linked list (LL) node to store a queue entry \n",
    "class Node: \n",
    "      \n",
    "    def __init__(self, data): \n",
    "        self.data = data \n",
    "        self.next = None\n",
    "  \n",
    "# A class to represent a queue \n",
    "  \n",
    "# The queue, front stores the front node of LL and rear stores the last node of LL \n",
    "class Queue: \n",
    "      \n",
    "    def __init__(self): \n",
    "        self.front = self.rear = None    # Initializes the front and rear pointers of queue\n",
    "  \n",
    "    def isEmpty(self): \n",
    "        return self.front == None\n",
    "      \n",
    "    # Method to add an item to the queue \n",
    "    def EnQueue(self, item): \n",
    "        temp = Node(item)    # Creates an independent node with Next field to be None\n",
    "          \n",
    "        if self.rear == None:                        #Checks the queue is empty\n",
    "            self.front = self.rear = temp            # Adds the first node of the queue\n",
    "            return\n",
    "        self.rear.next = temp                 # Add the node to end of queue\n",
    "        self.rear = temp                        # Will make the rear pointer point to new end of the queeu\n",
    "  \n",
    "    # Method to remove an item from queue \n",
    "    def DeQueue(self): \n",
    "          \n",
    "        if self.isEmpty():                         # queeue is empty\n",
    "            return\n",
    "        temp = self.front                      #temp will store the ref of the front node\n",
    "        self.front = temp.next                 # front will move to the second in the queue\n",
    "        temp.next = None\n",
    "  \n",
    "        if(self.front == None):               # if the queue is emplty after deletion the end queue is alos set to None\n",
    "            self.rear = None\n",
    "  \n",
    "# Driver Code \n",
    "if __name__== '__main__': \n",
    "    q = Queue() \n",
    "    q.EnQueue(10) \n",
    "    q.EnQueue(20) \n",
    "    q.DeQueue() \n",
    "    q.DeQueue() \n",
    "    q.EnQueue(30) \n",
    "    q.EnQueue(40) \n",
    "    q.EnQueue(50)  \n",
    "    q.DeQueue()    \n",
    "    print(\"Queue Front \" + str(q.front.data)) \n",
    "    print(\"Queue Rear \" + str(q.rear.data)) "
   ]
  },
  {
   "cell_type": "code",
   "execution_count": null,
   "metadata": {},
   "outputs": [],
   "source": []
  }
 ],
 "metadata": {
  "kernelspec": {
   "display_name": "Python 3",
   "language": "python",
   "name": "python3"
  },
  "language_info": {
   "codemirror_mode": {
    "name": "ipython",
    "version": 3
   },
   "file_extension": ".py",
   "mimetype": "text/x-python",
   "name": "python",
   "nbconvert_exporter": "python",
   "pygments_lexer": "ipython3",
   "version": "3.7.9"
  }
 },
 "nbformat": 4,
 "nbformat_minor": 4
}
